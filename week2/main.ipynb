{
 "cells": [
  {
   "cell_type": "code",
   "execution_count": 6,
   "metadata": {},
   "outputs": [],
   "source": [
    "import pandas as pd\n",
    "import seaborn as sns\n",
    "import matplotlib.pyplot as plt\n",
    "\n",
    "\n",
    "train = pd.read_csv('C:/Users/akshi/coding/projects/dsoc/week2/data/train.csv')\n",
    "transactions = pd.read_csv('C:/Users/akshi/coding/projects/dsoc/week2/data/transactions.csv')\n",
    "test = pd.read_csv('C:/Users/akshi/coding/projects/dsoc/week2/data/test.csv')\n",
    "holidays = pd.read_csv('C:/Users/akshi/coding/projects/dsoc/week2/data/holidays_events.csv')\n",
    "oil = pd.read_csv('C:/Users/akshi/coding/projects/dsoc/week2/data/oil.csv')\n",
    "stores = pd.read_csv('C:/Users/akshi/coding/projects/dsoc/week2/data/stores.csv')\n",
    "\n"
   ]
  },
  {
   "cell_type": "code",
   "execution_count": 7,
   "metadata": {},
   "outputs": [
    {
     "name": "stderr",
     "output_type": "stream",
     "text": [
      "C:\\Users\\akshi\\AppData\\Local\\Temp\\ipykernel_19352\\3057108874.py:14: FutureWarning: DataFrame.fillna with 'method' is deprecated and will raise in a future version. Use obj.ffill() or obj.bfill() instead.\n",
      "  train.fillna(method='ffill', inplace=True)\n",
      "C:\\Users\\akshi\\AppData\\Local\\Temp\\ipykernel_19352\\3057108874.py:14: FutureWarning: Downcasting object dtype arrays on .fillna, .ffill, .bfill is deprecated and will change in a future version. Call result.infer_objects(copy=False) instead. To opt-in to the future behavior, set `pd.set_option('future.no_silent_downcasting', True)`\n",
      "  train.fillna(method='ffill', inplace=True)\n"
     ]
    }
   ],
   "source": [
    "# Merge train data with store information\n",
    "train = train.merge(stores, on='store_nbr', how='left')\n",
    "\n",
    "# Merge train data with transactions\n",
    "train = train.merge(transactions, on=['date', 'store_nbr'], how='left')\n",
    "\n",
    "# Merge train data with oil prices\n",
    "train = train.merge(oil, on='date', how='left')\n",
    "\n",
    "# Merge train data with holidays\n",
    "train = train.merge(holidays, on='date', how='left')\n",
    "\n",
    "# Handle missing values if any\n",
    "train.fillna(method='ffill', inplace=True)\n",
    "\n",
    "# One-hot encode categorical variables\n",
    "train = pd.get_dummies(train, columns=['store_nbr', 'type_x', 'type_y', 'locale', 'locale_name', 'description', 'transferred'])\n",
    "\n",
    "# Convert 'date' column to datetime\n",
    "train['date'] = pd.to_datetime(train['date'])\n",
    "\n",
    "# Extract date-based features\n",
    "train['day_of_week'] = train['date'].dt.dayofweek\n",
    "train['month'] = train['date'].dt.month\n",
    "train['year'] = train['date'].dt.year\n",
    "train['day_of_year'] = train['date'].dt.dayofyear\n",
    "train['week_of_year'] = train['date'].dt.isocalendar().week\n",
    "train['quarter'] = train['date'].dt.quarter"
   ]
  },
  {
   "cell_type": "code",
   "execution_count": 8,
   "metadata": {},
   "outputs": [
    {
     "name": "stdout",
     "output_type": "stream",
     "text": [
      "Columns in train DataFrame: Index(['id', 'date', 'family', 'sales', 'onpromotion', 'city', 'state',\n",
      "       'cluster', 'transactions', 'dcoilwtico',\n",
      "       ...\n",
      "       'description_Traslado Primer dia del ano', 'description_Viernes Santo',\n",
      "       'transferred_False', 'transferred_True', 'day_of_week', 'month', 'year',\n",
      "       'day_of_year', 'week_of_year', 'quarter'],\n",
      "      dtype='object', length=211)\n"
     ]
    }
   ],
   "source": [
    "# Select numerical features to scale\n",
    "from sklearn.preprocessing import StandardScaler\n",
    "numerical_features = ['transactions', 'dcoilwtico', 'day_of_year', 'week_of_year', 'quarter']\n",
    "scaler = StandardScaler()\n",
    "train[numerical_features] = scaler.fit_transform(train[numerical_features])\n",
    "\n",
    "# Check the columns in the train DataFrame\n",
    "print(\"Columns in train DataFrame:\", train.columns)"
   ]
  },
  {
   "cell_type": "code",
   "execution_count": 9,
   "metadata": {},
   "outputs": [
    {
     "name": "stderr",
     "output_type": "stream",
     "text": [
      "C:\\Users\\akshi\\AppData\\Roaming\\Python\\Python312\\site-packages\\statsmodels\\tsa\\base\\tsa_model.py:473: ValueWarning: A date index has been provided, but it has no associated frequency information and so will be ignored when e.g. forecasting.\n",
      "  self._init_dates(dates, freq)\n",
      "C:\\Users\\akshi\\AppData\\Roaming\\Python\\Python312\\site-packages\\statsmodels\\tsa\\base\\tsa_model.py:473: ValueWarning: A date index has been provided, but it has no associated frequency information and so will be ignored when e.g. forecasting.\n",
      "  self._init_dates(dates, freq)\n",
      "C:\\Users\\akshi\\AppData\\Roaming\\Python\\Python312\\site-packages\\statsmodels\\tsa\\base\\tsa_model.py:473: ValueWarning: A date index has been provided, but it has no associated frequency information and so will be ignored when e.g. forecasting.\n",
      "  self._init_dates(dates, freq)\n"
     ]
    }
   ],
   "source": [
    "# Set 'date' as the index for ARIMA\n",
    "train.set_index('date', inplace=True)\n",
    "\n",
    "# Use sales data for ARIMA\n",
    "sales_data = train['sales']\n",
    "\n",
    "# Fit the ARIMA model\n",
    "from statsmodels.tsa.arima.model import ARIMA\n",
    "model = ARIMA(sales_data, order=(5, 1, 0))\n",
    "model_fit = model.fit()\n",
    "\n",
    "# Print the summary of the model\n",
    "print(model_fit.summary())\n",
    "\n",
    "\n",
    "# Fit the SARIMA model\n",
    "from statsmodels.tsa.statespace.sarimax import SARIMAX\n",
    "model = SARIMAX(sales_data, order=(1, 1, 1), seasonal_order=(1, 1, 1, 12))\n",
    "model_fit = model.fit()\n",
    "\n",
    "# Print the summary of the model\n",
    "print(model_fit.summary())\n",
    "\n"
   ]
  },
  {
   "cell_type": "code",
   "execution_count": null,
   "metadata": {},
   "outputs": [],
   "source": [
    "# Install Prophet if you haven't already\n",
    "# !pip install prophet\n",
    "\n",
    "from prophet import Prophet\n",
    "\n",
    "# Prepare data for Prophet\n",
    "prophet_data = train.reset_index()[['date', 'sales']].rename(columns={'date': 'ds', 'sales': 'y'})\n",
    "\n",
    "# Fit Prophet model\n",
    "model_prophet = Prophet()\n",
    "model_prophet.fit(prophet_data)\n",
    "\n",
    "# Make future predictions\n",
    "future = model_prophet.make_future_dataframe(periods=365)  # Forecasting for 1 year into the future\n",
    "forecast = model_prophet.predict(future)\n",
    "\n",
    "# Plot the forecast\n",
    "fig = model_prophet.plot(forecast)\n",
    "plt.title('Prophet Forecast for Sales')\n",
    "plt.xlabel('Date')\n",
    "plt.ylabel('Sales')\n",
    "plt.show()\n"
   ]
  },
  {
   "cell_type": "code",
   "execution_count": null,
   "metadata": {},
   "outputs": [],
   "source": [
    "# Importing necessary libraries\n",
    "from tensorflow.keras.models import Sequential\n",
    "from tensorflow.keras.layers import LSTM, Dense, Dropout\n",
    "from sklearn.preprocessing import MinMaxScaler\n",
    "\n",
    "# Prepare data for LSTM\n",
    "lstm_data = train.reset_index()[['date', 'sales']].rename(columns={'date': 'ds', 'sales': 'y'})\n",
    "\n",
    "# Normalize the data\n",
    "scaler = MinMaxScaler()\n",
    "scaled_data = scaler.fit_transform(lstm_data[['y']])\n",
    "\n",
    "# Function to create sequences for LSTM\n",
    "def create_sequences(data, seq_length):\n",
    "    xs, ys = [], []\n",
    "    for i in range(len(data) - seq_length):\n",
    "        x = data[i:(i + seq_length)]\n",
    "        y = data[i + seq_length]\n",
    "        xs.append(x)\n",
    "        ys.append(y)\n",
    "    return np.array(xs), np.array(ys)\n",
    "\n",
    "# Set sequence length\n",
    "sequence_length = 10\n",
    "\n",
    "# Create sequences for LSTM\n",
    "X, y = create_sequences(scaled_data, sequence_length)\n",
    "\n",
    "# Reshape X to fit LSTM\n",
    "X = X.reshape((X.shape[0], X.shape[1], 1))\n",
    "\n",
    "# Build LSTM model\n",
    "model_lstm = Sequential()\n",
    "model_lstm.add(LSTM(units=50, return_sequences=True, input_shape=(X.shape[1], 1)))\n",
    "model_lstm.add(Dropout(0.2))\n",
    "model_lstm.add(LSTM(units=50))\n",
    "model_lstm.add(Dropout(0.2))\n",
    "model_lstm.add(Dense(units=1))\n",
    "\n",
    "# Compile the model\n",
    "model_lstm.compile(optimizer='adam', loss='mean_squared_error')\n",
    "\n",
    "# Fit the model\n",
    "model_lstm.fit(X, y, epochs=50, batch_size=32)\n",
    "\n",
    "# Predict using LSTM model\n",
    "forecast_lstm = model_lstm.predict(X[-365:])  # Forecasting for 1 year into the future\n",
    "\n",
    "# Inverse transform the forecasted data\n",
    "forecast_lstm = scaler.inverse_transform(forecast_lstm)\n",
    "\n",
    "# Plot the LSTM forecast\n",
    "plt.figure(figsize=(10, 6))\n",
    "plt.plot(lstm_data['ds'], lstm_data['y'], label='Actual Sales')\n",
    "plt.plot(lstm_data['ds'][-365:], forecast_lstm, label='LSTM Forecast')\n",
    "plt.title('LSTM Forecast for Sales')\n",
    "plt.xlabel('Date')\n",
    "plt.ylabel('Sales')\n",
    "plt.legend()\n",
    "plt.show()\n"
   ]
  },
  {
   "cell_type": "code",
   "execution_count": null,
   "metadata": {},
   "outputs": [],
   "source": []
  }
 ],
 "metadata": {
  "kernelspec": {
   "display_name": "Python 3",
   "language": "python",
   "name": "python3"
  },
  "language_info": {
   "codemirror_mode": {
    "name": "ipython",
    "version": 3
   },
   "file_extension": ".py",
   "mimetype": "text/x-python",
   "name": "python",
   "nbconvert_exporter": "python",
   "pygments_lexer": "ipython3",
   "version": "3.12.4"
  }
 },
 "nbformat": 4,
 "nbformat_minor": 2
}
